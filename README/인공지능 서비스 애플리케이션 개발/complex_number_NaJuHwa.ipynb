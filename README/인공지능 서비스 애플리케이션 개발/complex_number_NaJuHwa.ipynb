{
  "nbformat": 4,
  "nbformat_minor": 0,
  "metadata": {
    "colab": {
      "provenance": []
    },
    "kernelspec": {
      "name": "python3",
      "display_name": "Python 3"
    },
    "language_info": {
      "name": "python"
    }
  },
  "cells": [
    {
      "cell_type": "code",
      "execution_count": 20,
      "metadata": {
        "colab": {
          "base_uri": "https://localhost:8080/"
        },
        "id": "pgl_FIVK9ShL",
        "outputId": "8358484b-14b4-4886-9460-4f4aec2397f1"
      },
      "outputs": [
        {
          "output_type": "stream",
          "name": "stdout",
          "text": [
            "a: 1+2j\n",
            "b: 3+2j\n",
            "a + b: 4+4j\n",
            "a - b: -2+0j\n",
            "a * b: -1+8j\n",
            "len(a): 5\n",
            "len(b): 13\n",
            "a == b: False\n",
            "a != b: True\n",
            "abs(a) : 2.23606797749979\n",
            "a: 1+2j\n",
            "b: 3+-2j\n",
            "a + b: 4+0j\n",
            "a - b: -2+4j\n",
            "a * b: 7+4j\n",
            "len(a): 5\n",
            "len(b): 13\n",
            "a == b: False\n",
            "a != b: True\n",
            "abs(a) : 2.23606797749979\n"
          ]
        }
      ],
      "source": [
        "import math\n",
        "\n",
        "class Calculator():\n",
        "    def __init__(self, a, b):\n",
        "        self.a = a\n",
        "        self.b = b\n",
        "\n",
        "    def __str__(self):\n",
        "        return '{}+{}j'.format(self.a, self.b)\n",
        "\n",
        "    def __add__(self, x):\n",
        "        return Calculator(self.a + x.a, self.b + x.b)\n",
        "  \n",
        "    def __sub__(self, x):\n",
        "        return Calculator(self.a - x.a, self.b - x.b)\n",
        "\n",
        "    def __mul__(self, x):\n",
        "        return Calculator(self.a * x.a - self.b * x.b, self.a * x.b + self.b * x.a)\n",
        "\n",
        "    def len(self):\n",
        "        return (self.a ** 2 + self.b ** 2)\n",
        "\n",
        "    def bool(self, x):\n",
        "        print(\"a == b:\", self.a == x.a)\n",
        "        print(\"a != b:\", self.a != x.a)\n",
        "\n",
        "    def abs(self):\n",
        "        return math.sqrt(self.a ** 2 + self.b ** 2)\n",
        "\n",
        "a = Calculator(1, 2)\n",
        "b = Calculator(3, 2)\n",
        "print(\"a:\", a)\n",
        "print(\"b:\", b)\n",
        "print(\"a + b:\", a + b)\n",
        "print(\"a - b:\", a - b)\n",
        "print(\"a * b:\", a * b)\n",
        "print(\"len(a):\", a.len())\n",
        "print(\"len(b):\", b.len())\n",
        "a.bool(b)\n",
        "print(\"abs(a) :\", a.abs())\n",
        "\n",
        "a = Calculator(1, 2)\n",
        "b = Calculator(3, -2)\n",
        "print(\"a:\", a)\n",
        "print(\"b:\", b)\n",
        "print(\"a + b:\", a + b)\n",
        "print(\"a - b:\", a - b)\n",
        "print(\"a * b:\", a * b)\n",
        "print(\"len(a):\", a.len())\n",
        "print(\"len(b):\", b.len())\n",
        "a.bool(b)\n",
        "print(\"abs(a) :\", a.abs())\n"
      ]
    }
  ]
}